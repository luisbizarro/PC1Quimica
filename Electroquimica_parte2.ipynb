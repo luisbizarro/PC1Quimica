{
  "nbformat": 4,
  "nbformat_minor": 0,
  "metadata": {
    "colab": {
      "provenance": [],
      "include_colab_link": true
    },
    "kernelspec": {
      "name": "python3",
      "display_name": "Python 3"
    },
    "language_info": {
      "name": "python"
    }
  },
  "cells": [
    {
      "cell_type": "markdown",
      "metadata": {
        "id": "view-in-github",
        "colab_type": "text"
      },
      "source": [
        "<a href=\"https://colab.research.google.com/github/luisbizarro/PC1Quimica/blob/main/Electroquimica_parte2.ipynb\" target=\"_parent\"><img src=\"https://colab.research.google.com/assets/colab-badge.svg\" alt=\"Open In Colab\"/></a>"
      ]
    },
    {
      "cell_type": "code",
      "execution_count": null,
      "metadata": {
        "id": "O6G6OnUDhBzu"
      },
      "outputs": [],
      "source": [
        "elementos_grupo_A = {\n",
        "    \"H\": \"Hidrógeno\",\n",
        "    \"Li\": \"Litio\",\n",
        "    \"Na\": \"Sodio\",\n",
        "    \"K\": \"Potasio\",\n",
        "    \"Rb\": \"Rubidio\",\n",
        "    \"Cs\": \"Cesio\",\n",
        "    \"Fr\": \"Francio\",\n",
        "    \"Be\": \"Berilio\",\n",
        "    \"Mg\": \"Magnesio\",\n",
        "    \"Ca\": \"Calcio\",\n",
        "    \"Sr\": \"Estroncio\",\n",
        "    \"Ba\": \"Bario\",\n",
        "    \"Ra\": \"Radio\"\n",
        "}\n",
        "aniones_grupo_A = {\n",
        "    \"NO3\",\n",
        "    \"SO4\"\n",
        "}"
      ]
    },
    {
      "cell_type": "code",
      "source": [
        "a = input('Ingrese el catión de la molecula: ')\n",
        "b = input('Ingrese el anión de la molecula: ')\n",
        "catodo = a\n",
        "anodo = b\n",
        "for elemento in elementos_grupo_A:\n",
        "  if elemento == a:\n",
        "      catodo = \"H2(g) / OH-\"\n",
        "for elemento in aniones_grupo_A:\n",
        "  if elemento == b:\n",
        "     anodo= \"O2(g)/H+\"\n",
        "print(\"Al catodo va\", catodo )\n",
        "print('Al anodo va ', anodo)"
      ],
      "metadata": {
        "id": "Ah2GiQh3nJjs",
        "colab": {
          "base_uri": "https://localhost:8080/"
        },
        "outputId": "e71c4911-b41b-4412-b0c6-ca19152b67b8"
      },
      "execution_count": null,
      "outputs": [
        {
          "output_type": "stream",
          "name": "stdout",
          "text": [
            "Ingrese el catión de la molecula: H\n",
            "Ingrese el anión de la molecula: SO4\n",
            "Al catodo va H2(g) / OH-\n",
            "Al anodo va  O2(g)/H+\n"
          ]
        }
      ]
    },
    {
      "cell_type": "code",
      "source": [],
      "metadata": {
        "id": "IjbK-hR_qfCx"
      },
      "execution_count": null,
      "outputs": []
    }
  ]
}